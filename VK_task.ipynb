{
  "nbformat": 4,
  "nbformat_minor": 0,
  "metadata": {
    "colab": {
      "provenance": []
    },
    "kernelspec": {
      "name": "python3",
      "display_name": "Python 3"
    },
    "language_info": {
      "name": "python"
    }
  },
  "cells": [
    {
      "cell_type": "code",
      "execution_count": null,
      "metadata": {
        "id": "d1vx1GXV-SHA"
      },
      "outputs": [],
      "source": [
        "import cv2\n",
        "import numpy as np\n",
        "from glob import glob\n",
        "from tqdm import tqdm\n",
        "\n",
        "T_MAX = 300      # Анализируем первые 5 минут (300 секунд)\n",
        "FPS_EXTRACT = 1  # Частота кадров (1 кадр/сек)\n",
        "L_MIN, L_MAX = 5, 30  # Длительность заставки (сек)\n"
      ]
    },
    {
      "cell_type": "code",
      "source": [
        "def extract_features(video_path: str) -> list:\n",
        "    \"\"\"Извлекает цветовые гистограммы из видео.\"\"\"\n",
        "    cap = cv2.VideoCapture(video_path)\n",
        "    fps = cap.get(cv2.CAP_PROP_FPS)\n",
        "    features = []\n",
        "    frame_count = 0\n",
        "\n",
        "    while frame_count < T_MAX * fps:\n",
        "        ret, frame = cap.read()\n",
        "        if not ret:\n",
        "            break\n",
        "        if frame_count % int(fps) == 0:\n",
        "            frame = cv2.resize(frame, (224, 224))\n",
        "            hsv = cv2.cvtColor(frame, cv2.COLOR_BGR2HSV)\n",
        "            hist = cv2.calcHist([hsv], [0, 1, 2], None, [16, 4, 4], [0, 180, 0, 256, 0, 256])\n",
        "            hist = cv2.normalize(hist, None).flatten()\n",
        "            features.append(hist)\n",
        "        frame_count += 1\n",
        "    cap.release()\n",
        "    return features\n"
      ],
      "metadata": {
        "id": "JcSGmEe1HaL2"
      },
      "execution_count": null,
      "outputs": []
    },
    {
      "cell_type": "code",
      "source": [
        "\n",
        "def find_intro(video_files: list) -> tuple:\n",
        "    \"\"\"Находит интервал заставки.\"\"\"\n",
        "    all_features = [extract_features(f) for f in video_files[:5]]\n",
        "    min_len = min(len(f) for f in all_features)\n",
        "    all_features = [f[:min_len] for f in all_features]\n",
        "\n",
        "    d_t = np.zeros(min_len)\n",
        "    for t in range(min_len):\n",
        "        dists = []\n",
        "        for i in range(len(all_features)):\n",
        "            for j in range(i + 1, len(all_features)):\n",
        "                dist = np.linalg.norm(all_features[i][t] - all_features[j][t])\n",
        "                dists.append(dist)\n",
        "        d_t[t] = np.mean(dists)\n",
        "\n",
        "    best_score = float('inf')\n",
        "    best_t, best_L = 0, 0\n",
        "\n",
        "    for L in range(L_MIN, L_MAX + 1):\n",
        "        for t in range(min_len - L):\n",
        "            score = np.mean(d_t[t:t + L])\n",
        "            if score < best_score:\n",
        "                best_score = score\n",
        "                best_t, best_L = t, L\n",
        "\n",
        "    start, end = best_t, best_t + best_L - 1\n",
        "    return start, end\n",
        "\n"
      ],
      "metadata": {
        "id": "dVDmTuJzHbc2"
      },
      "execution_count": null,
      "outputs": []
    },
    {
      "cell_type": "code",
      "source": [
        "path = \"/content/-220020068_456257141.mp4\"\n",
        "video_files = sorted(glob(path))\n",
        "start, end = find_intro(video_files)\n",
        "print(f\"Заставка: {start}-{end} секунд\")"
      ],
      "metadata": {
        "colab": {
          "base_uri": "https://localhost:8080/"
        },
        "id": "5COrNgthHcmH",
        "outputId": "09ce734c-6177-4e07-fe3c-0eb263a2ecc3"
      },
      "execution_count": null,
      "outputs": [
        {
          "output_type": "stream",
          "name": "stdout",
          "text": [
            "Заставка: 0--1 секунд\n"
          ]
        }
      ]
    }
  ]
}